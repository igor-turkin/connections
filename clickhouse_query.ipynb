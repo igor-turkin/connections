{
 "cells": [
  {
   "cell_type": "code",
   "execution_count": null,
   "id": "85bd3586",
   "metadata": {},
   "outputs": [],
   "source": [
    "# установка библиотеки pandahouse\n",
    "pip install pandahouse"
   ]
  },
  {
   "cell_type": "code",
   "execution_count": null,
   "id": "3a5860eb",
   "metadata": {},
   "outputs": [],
   "source": [
    "# имопрт библиотеки\n",
    "import pandahouse as ph"
   ]
  },
  {
   "cell_type": "code",
   "execution_count": null,
   "id": "36811aa5",
   "metadata": {},
   "outputs": [],
   "source": [
    "# подключение к серверу\n",
    "connection_default = {'host': 'http://clickhouse.********.pro:8080', # адрес авторизации к серверу\n",
    "                      'database':'default', # название базы на сервере\n",
    "                      'user':'*******', # логин\n",
    "                      'password':'*******' # пароль\n",
    "                     }"
   ]
  },
  {
   "cell_type": "code",
   "execution_count": null,
   "id": "3d5ae631",
   "metadata": {},
   "outputs": [],
   "source": [
    "# текст запроса\n",
    "q = '''\n",
    "    SELECT *\n",
    "    FROM data\n",
    "    '''\n",
    "# вывод результата запроса с таблицей в переменную\n",
    "request = ph.read_clickhouse(query=q, connection=connection_default)\n",
    "request"
   ]
  }
 ],
 "metadata": {
  "kernelspec": {
   "display_name": "Python 3 (ipykernel)",
   "language": "python",
   "name": "python3"
  },
  "language_info": {
   "codemirror_mode": {
    "name": "ipython",
    "version": 3
   },
   "file_extension": ".py",
   "mimetype": "text/x-python",
   "name": "python",
   "nbconvert_exporter": "python",
   "pygments_lexer": "ipython3",
   "version": "3.7.9"
  }
 },
 "nbformat": 4,
 "nbformat_minor": 5
}
