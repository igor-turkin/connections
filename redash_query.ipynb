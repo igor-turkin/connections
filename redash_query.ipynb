{
 "cells": [
  {
   "cell_type": "code",
   "execution_count": 35,
   "id": "7103e11e",
   "metadata": {},
   "outputs": [
    {
     "name": "stdout",
     "output_type": "stream",
     "text": [
      "   carid  carbrandid registrationnumber  maxweight\n",
      "0      1          11             AK4141       2000\n",
      "1      2          22             AK4242       3000\n",
      "2      3          33             AK4343       4000\n",
      "3      4          44             AK4444       5000\n",
      "4      5          55             AV4257       3560\n",
      "5      6          66             AV4775       4500\n"
     ]
    }
   ],
   "source": [
    "# подключение из существующего аккаунта на Redash\n",
    "import pandas as pd\n",
    "import requests\n",
    "\n",
    "# Установите значения для переменных\n",
    "redash_url = 'https://redash.**********/'\n",
    "api_key = '**********'\n",
    "data_source_id = 4  # Замените на идентификатор вашего источника данных (номер базы данных)\n",
    "\n",
    "# код запроса SQL\n",
    "query = 'SELECT * FROM date LIMIT 10'\n",
    "\n",
    "# Создайте заголовок с авторизацией по ключу API\n",
    "headers = {'Authorization': f'Key {api_key}'}\n",
    "\n",
    "# Отправьте запрос к Redash API для выполнения SQL-запроса с указанием идентификатора источника данных\n",
    "response = requests.post(f'{redash_url}/api/query_results', headers=headers, json={'query': query, 'data_source_id': data_source_id})\n",
    "\n",
    "# Обработайте ответ\n",
    "if response.status_code == 200:\n",
    "    result = response.json()\n",
    "    if 'rows' in result['query_result']['data']:\n",
    "        rows = result['query_result']['data']['rows']\n",
    "        df = pd.DataFrame(rows)\n",
    "        print(df)\n",
    "    else:\n",
    "        print('Ответ не содержит таблицы:', response.json())\n",
    "else:\n",
    "    print('Ошибка выполнения запроса:', response.text)"
   ]
  },
  {
   "cell_type": "code",
   "execution_count": 34,
   "id": "9e326f55",
   "metadata": {},
   "outputs": [
    {
     "name": "stdout",
     "output_type": "stream",
     "text": [
      "ID: 2, Name: ClickHouse\n",
      "ID: 4, Name: PostgreSQL\n",
      "ID: 5, Name: SE\n",
      "ID: 6, Name: Simulator ML\n",
      "ID: 7, Name: StartML\n"
     ]
    }
   ],
   "source": [
    "# узнать ID базы данных\n",
    "import requests\n",
    "\n",
    "redash_url = \"https://redash******/\"\n",
    "redash_api_key = \"*******\"\n",
    "\n",
    "headers = {\n",
    "    \"Authorization\": f\"Key {redash_api_key}\",\n",
    "    \"Content-Type\": \"application/json\",\n",
    "}\n",
    "\n",
    "response = requests.get(\n",
    "    f\"{redash_url}/api/data_sources\", headers=headers\n",
    ")\n",
    "\n",
    "result = response.json()\n",
    "\n",
    "# Выводит идентификаторы и названия источников данных\n",
    "for data_source in result:\n",
    "    print(f\"ID: {data_source['id']}, Name: {data_source['name']}\")"
   ]
  }
 ],
 "metadata": {
  "kernelspec": {
   "display_name": "Python 3 (ipykernel)",
   "language": "python",
   "name": "python3"
  },
  "language_info": {
   "codemirror_mode": {
    "name": "ipython",
    "version": 3
   },
   "file_extension": ".py",
   "mimetype": "text/x-python",
   "name": "python",
   "nbconvert_exporter": "python",
   "pygments_lexer": "ipython3",
   "version": "3.7.9"
  }
 },
 "nbformat": 4,
 "nbformat_minor": 5
}
